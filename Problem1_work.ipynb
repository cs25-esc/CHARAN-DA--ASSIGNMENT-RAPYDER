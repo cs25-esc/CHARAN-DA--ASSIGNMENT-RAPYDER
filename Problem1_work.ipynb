{
  "nbformat": 4,
  "nbformat_minor": 0,
  "metadata": {
    "colab": {
      "provenance": []
    },
    "kernelspec": {
      "name": "python3",
      "display_name": "Python 3"
    },
    "language_info": {
      "name": "python"
    }
  },
  "cells": [
    {
      "cell_type": "code",
      "execution_count": 38,
      "metadata": {
        "id": "4cUzcikH10Th"
      },
      "outputs": [],
      "source": [
        "import numpy as np \n",
        "import pandas as pd\n",
        "import seaborn as sns\n",
        "import matplotlib.pyplot as plt\n",
        "from sklearn.model_selection import train_test_split\n",
        "from sklearn.linear_model import LogisticRegression\n",
        "from sklearn.ensemble import RandomForestClassifier\n",
        "from sklearn.tree import DecisionTreeClassifier\n",
        "from xgboost import XGBClassifier\n",
        "from sklearn.naive_bayes import MultinomialNB\n",
        "from sklearn.metrics import classification_report,confusion_matrix,accuracy_score"
      ]
    },
    {
      "cell_type": "code",
      "source": [
        "import nltk\n",
        "nltk.download('stopwords')\n",
        "nltk.download('punkt')"
      ],
      "metadata": {
        "colab": {
          "base_uri": "https://localhost:8080/"
        },
        "id": "PzIiABud13T5",
        "outputId": "ca686952-4d32-4102-f899-4fe10c2a0bf6"
      },
      "execution_count": 2,
      "outputs": [
        {
          "output_type": "stream",
          "name": "stderr",
          "text": [
            "[nltk_data] Downloading package stopwords to /root/nltk_data...\n",
            "[nltk_data]   Unzipping corpora/stopwords.zip.\n",
            "[nltk_data] Downloading package punkt to /root/nltk_data...\n",
            "[nltk_data]   Unzipping tokenizers/punkt.zip.\n"
          ]
        },
        {
          "output_type": "execute_result",
          "data": {
            "text/plain": [
              "True"
            ]
          },
          "metadata": {},
          "execution_count": 2
        }
      ]
    },
    {
      "cell_type": "code",
      "source": [
        "import re\n",
        "from nltk.tokenize import word_tokenize\n",
        "\n",
        "from nltk.stem import PorterStemmer\n",
        "\n",
        "stemmer = PorterStemmer()\n",
        "\n",
        "from nltk.corpus import stopwords\n",
        "\n",
        "stop_words = set(stopwords.words('english'))\n",
        "\n",
        "\n",
        "from sklearn.feature_extraction.text import CountVectorizer, TfidfVectorizer"
      ],
      "metadata": {
        "id": "1a4B24WA13Wc"
      },
      "execution_count": 3,
      "outputs": []
    },
    {
      "cell_type": "code",
      "source": [
        "def convert1(s):\n",
        "  l = []\n",
        "  s = list(s)\n",
        "  for i in s:\n",
        "    if 'followers' in i:\n",
        "      i = i.replace(\" followers\",\"\")\n",
        "    else:\n",
        "      i = i  \n",
        "    if 'k' not in i:\n",
        "      u = i.replace(\",\" , \"\")\n",
        "      u = int(u)\n",
        "    elif 'k' in i:\n",
        "      u = float(i[0:len(i) - 1]) * 1000\n",
        "    else:\n",
        "      u = i  \n",
        "    l.append(u)\n",
        "  return l \n",
        "\n",
        "\n",
        "\n",
        "def data_pre(text):\n",
        "  text = str(text).lower()\n",
        "  text = re.sub(r\"https\\S+\",\"\",text,flags=re.MULTILINE)\n",
        "\n",
        "  text = re.sub(r'\\@w+|\\#',\"\",text)\n",
        "\n",
        "  text = re.sub(r'[^\\w\\s]' , \"\", text)\n",
        "\n",
        "  text_tokens = word_tokenize(text)\n",
        "\n",
        "  filtered_text = [w for w in text_tokens if not w in stop_words]\n",
        "\n",
        "  f = \" \".join(filtered_text)\n",
        "\n",
        "  y = []\n",
        "\n",
        "  for i in list(f.split(\" \")):\n",
        "    y.append(stemmer.stem(i))\n",
        "\n",
        "  return \" \".join(y)  "
      ],
      "metadata": {
        "id": "pX8H38V713ZP"
      },
      "execution_count": 4,
      "outputs": []
    },
    {
      "cell_type": "code",
      "source": [
        "df = pd.read_csv('/content/DA-AI-ML-interview-assignment-Data (1).csv')"
      ],
      "metadata": {
        "id": "_xVGnR9i4jb0"
      },
      "execution_count": 5,
      "outputs": []
    },
    {
      "cell_type": "code",
      "source": [
        "df['num_ratings'] = convert1(df['num_ratings'])\n",
        "df['num_reviews'] = convert1(df['num_reviews'])\n",
        "df['num_followers'] = convert1(df['num_followers'])\n",
        "\n",
        "df['num_ratings'] = df['num_ratings'] / 1000"
      ],
      "metadata": {
        "id": "926P4L3l13bq"
      },
      "execution_count": 6,
      "outputs": []
    },
    {
      "cell_type": "code",
      "source": [
        "plt_1 = plt.figure(figsize=(12, 6))\n",
        "\n",
        "sns.barplot(x = df['genre'] , y = df['rating'])\n",
        "plt.show()"
      ],
      "metadata": {
        "colab": {
          "base_uri": "https://localhost:8080/",
          "height": 389
        },
        "id": "xguU39bG13eU",
        "outputId": "d254d495-836c-425c-addd-c1788f1e2924"
      },
      "execution_count": 7,
      "outputs": [
        {
          "output_type": "display_data",
          "data": {
            "text/plain": [
              "<Figure size 864x432 with 1 Axes>"
            ],
            "image/png": "[encoded data removed]"
          },
          "metadata": {
            "needs_background": "light"
          }
        }
      ]
    },
    {
      "cell_type": "code",
      "source": [
        "plt_1 = plt.figure(figsize=(12, 6))\n",
        "\n",
        "sns.barplot(x = df['genre'] , y = df['num_ratings'])"
      ],
      "metadata": {
        "colab": {
          "base_uri": "https://localhost:8080/",
          "height": 406
        },
        "id": "wTbOgG9-13hj",
        "outputId": "632c9ca6-cd1e-42c3-bffd-fd83a8252a1a"
      },
      "execution_count": 8,
      "outputs": [
        {
          "output_type": "execute_result",
          "data": {
            "text/plain": [
              "<matplotlib.axes._subplots.AxesSubplot at 0x7f1373428a00>"
            ]
          },
          "metadata": {},
          "execution_count": 8
        },
        {
          "output_type": "display_data",
          "data": {
            "text/plain": [
              "<Figure size 864x432 with 1 Axes>"
            ],
            "image/png": "[encoded data removed]"
          },
          "metadata": {
            "needs_background": "light"
          }
        }
      ]
    },
    {
      "cell_type": "code",
      "source": [
        "plt_1 = plt.figure(figsize=(12, 6))\n",
        "\n",
        "sns.barplot(x = df['genre'] , y = df['num_reviews'])"
      ],
      "metadata": {
        "colab": {
          "base_uri": "https://localhost:8080/",
          "height": 406
        },
        "id": "HNvyCQwh13ki",
        "outputId": "9e63b916-49cc-44fc-fe2e-faef3697e776"
      },
      "execution_count": 9,
      "outputs": [
        {
          "output_type": "execute_result",
          "data": {
            "text/plain": [
              "<matplotlib.axes._subplots.AxesSubplot at 0x7f1372dfab80>"
            ]
          },
          "metadata": {},
          "execution_count": 9
        },
        {
          "output_type": "display_data",
          "data": {
            "text/plain": [
              "<Figure size 864x432 with 1 Axes>"
            ],
            "image/png": "[encoded data removed]"
          },
          "metadata": {
            "needs_background": "light"
          }
        }
      ]
    },
    {
      "cell_type": "code",
      "source": [
        "plt_1 = plt.figure(figsize=(12, 6))\n",
        "\n",
        "sns.barplot(x = df['genre'] , y = df['num_followers'])"
      ],
      "metadata": {
        "colab": {
          "base_uri": "https://localhost:8080/",
          "height": 406
        },
        "id": "wfHEHHzy13n1",
        "outputId": "c0b68e12-88ee-4350-9862-33cba1ebbb91"
      },
      "execution_count": 10,
      "outputs": [
        {
          "output_type": "execute_result",
          "data": {
            "text/plain": [
              "<matplotlib.axes._subplots.AxesSubplot at 0x7f1372d14910>"
            ]
          },
          "metadata": {},
          "execution_count": 10
        },
        {
          "output_type": "display_data",
          "data": {
            "text/plain": [
              "<Figure size 864x432 with 1 Axes>"
            ],
            "image/png": "[encoded data removed]"
          },
          "metadata": {
            "needs_background": "light"
          }
        }
      ]
    },
    {
      "cell_type": "code",
      "source": [
        "import warnings\n",
        "warnings.filterwarnings('ignore')\n",
        "\n",
        "\n",
        "dff = df[['title', 'name', 'num_ratings','num_followers', 'synopsis', 'genre']]\n",
        "dff['tags'] = dff['title'] + \" \" + dff['name'] + \" \" + dff['synopsis']\n",
        "\n",
        "df2 = dff[['num_ratings' , 'num_followers', 'tags' , 'genre']]\n",
        "\n",
        "df2['tags'] = df2.tags.apply(data_pre)\n",
        "\n",
        "maps = {'history':0, 'horror':1, 'psychology':2, 'romance':3, 'science':4,\n",
        "       'science_fiction':5, 'sports':6, 'thriller':7, 'travel':8, 'fantasy':9}\n",
        "\n",
        "df2['genre'] = df2['genre'].map(maps)       "
      ],
      "metadata": {
        "id": "JWWhEdEb13rP"
      },
      "execution_count": 11,
      "outputs": []
    },
    {
      "cell_type": "code",
      "source": [
        "X = df2"
      ],
      "metadata": {
        "id": "KyGah1lo13vV"
      },
      "execution_count": 12,
      "outputs": []
    },
    {
      "cell_type": "code",
      "source": [
        "tf_vec = TfidfVectorizer(min_df = 5)\n",
        "tf = tf_vec.fit_transform(X['tags'].values)\n",
        "\n",
        "a1 = tf.toarray()\n",
        "d1 = pd.DataFrame(a1)"
      ],
      "metadata": {
        "id": "AyQvajqe13yi"
      },
      "execution_count": 13,
      "outputs": []
    },
    {
      "cell_type": "code",
      "source": [
        "k = pd.concat([d1,X.drop(['tags'] , axis = 1)] , axis = 1)"
      ],
      "metadata": {
        "id": "AdXz9j3X131l"
      },
      "execution_count": 14,
      "outputs": []
    },
    {
      "cell_type": "code",
      "source": [
        "k"
      ],
      "metadata": {
        "colab": {
          "base_uri": "https://localhost:8080/",
          "height": 424
        },
        "id": "-ad5SDSI134C",
        "outputId": "0d9ce98b-2311-43a8-d085-1f59341928de"
      },
      "execution_count": 15,
      "outputs": [
        {
          "output_type": "execute_result",
          "data": {
            "text/plain": [
              "        0    1    2    3    4    5    6    7    8    9  ...      3966  3967  \\\n",
              "0     0.0  0.0  0.0  0.0  0.0  0.0  0.0  0.0  0.0  0.0  ...  0.000000   0.0   \n",
              "1     0.0  0.0  0.0  0.0  0.0  0.0  0.0  0.0  0.0  0.0  ...  0.000000   0.0   \n",
              "2     0.0  0.0  0.0  0.0  0.0  0.0  0.0  0.0  0.0  0.0  ...  0.000000   0.0   \n",
              "3     0.0  0.0  0.0  0.0  0.0  0.0  0.0  0.0  0.0  0.0  ...  0.000000   0.0   \n",
              "4     0.0  0.0  0.0  0.0  0.0  0.0  0.0  0.0  0.0  0.0  ...  0.000000   0.0   \n",
              "...   ...  ...  ...  ...  ...  ...  ...  ...  ...  ...  ...       ...   ...   \n",
              "1534  0.0  0.0  0.0  0.0  0.0  0.0  0.0  0.0  0.0  0.0  ...  0.000000   0.0   \n",
              "1535  0.0  0.0  0.0  0.0  0.0  0.0  0.0  0.0  0.0  0.0  ...  0.000000   0.0   \n",
              "1536  0.0  0.0  0.0  0.0  0.0  0.0  0.0  0.0  0.0  0.0  ...  0.000000   0.0   \n",
              "1537  0.0  0.0  0.0  0.0  0.0  0.0  0.0  0.0  0.0  0.0  ...  0.000000   0.0   \n",
              "1538  0.0  0.0  0.0  0.0  0.0  0.0  0.0  0.0  0.0  0.0  ...  0.107565   0.0   \n",
              "\n",
              "      3968  3969  3970  3971  3972  num_ratings  num_followers  genre  \n",
              "0      0.0   0.0   0.0   0.0   0.0      806.229        30500.0      0  \n",
              "1      0.0   0.0   0.0   0.0   0.0      367.056         6538.0      0  \n",
              "2      0.0   0.0   0.0   0.0   0.0      224.620         2354.0      0  \n",
              "3      0.0   0.0   0.0   0.0   0.0      613.157        64200.0      0  \n",
              "4      0.0   0.0   0.0   0.0   0.0     3313.033         4621.0      0  \n",
              "...    ...   ...   ...   ...   ...          ...            ...    ...  \n",
              "1534   0.0   0.0   0.0   0.0   0.0       83.827        11905.0      9  \n",
              "1535   0.0   0.0   0.0   0.0   0.0      775.001        22897.0      9  \n",
              "1536   0.0   0.0   0.0   0.0   0.0      310.138        30510.0      9  \n",
              "1537   0.0   0.0   0.0   0.0   0.0      337.538        66448.0      9  \n",
              "1538   0.0   0.0   0.0   0.0   0.0       50.102         6090.0      9  \n",
              "\n",
              "[1539 rows x 3976 columns]"
            ],
            "text/html": [
              "\n",
              "  <div id=\"df-8b2c7638-da8a-4080-83e0-0e29886f138d\">\n",
              "    <div class=\"colab-df-container\">\n",
              "      <div>\n",
              "<style scoped>\n",
              "    .dataframe tbody tr th:only-of-type {\n",
              "        vertical-align: middle;\n",
              "    }\n",
              "\n",
              "    .dataframe tbody tr th {\n",
              "        vertical-align: top;\n",
              "    }\n",
              "\n",
              "    .dataframe thead th {\n",
              "        text-align: right;\n",
              "    }\n",
              "</style>\n",
              "<table border=\"1\" class=\"dataframe\">\n",
              "  <thead>\n",
              "    <tr style=\"text-align: right;\">\n",
              "      <th></th>\n",
              "      <th>0</th>\n",
              "      <th>1</th>\n",
              "      <th>2</th>\n",
              "      <th>3</th>\n",
              "      <th>4</th>\n",
              "      <th>5</th>\n",
              "      <th>6</th>\n",
              "      <th>7</th>\n",
              "      <th>8</th>\n",
              "      <th>9</th>\n",
              "      <th>...</th>\n",
              "      <th>3966</th>\n",
              "      <th>3967</th>\n",
              "      <th>3968</th>\n",
              "      <th>3969</th>\n",
              "      <th>3970</th>\n",
              "      <th>3971</th>\n",
              "      <th>3972</th>\n",
              "      <th>num_ratings</th>\n",
              "      <th>num_followers</th>\n",
              "      <th>genre</th>\n",
              "    </tr>\n",
              "  </thead>\n",
              "  <tbody>\n",
              "    <tr>\n",
              "      <th>0</th>\n",
              "      <td>0.0</td>\n",
              "      <td>0.0</td>\n",
              "      <td>0.0</td>\n",
              "      <td>0.0</td>\n",
              "      <td>0.0</td>\n",
              "      <td>0.0</td>\n",
              "      <td>0.0</td>\n",
              "      <td>0.0</td>\n",
              "      <td>0.0</td>\n",
              "      <td>0.0</td>\n",
              "      <td>...</td>\n",
              "      <td>0.000000</td>\n",
              "      <td>0.0</td>\n",
              "      <td>0.0</td>\n",
              "      <td>0.0</td>\n",
              "      <td>0.0</td>\n",
              "      <td>0.0</td>\n",
              "      <td>0.0</td>\n",
              "      <td>806.229</td>\n",
              "      <td>30500.0</td>\n",
              "      <td>0</td>\n",
              "    </tr>\n",
              "    <tr>\n",
              "      <th>1</th>\n",
              "      <td>0.0</td>\n",
              "      <td>0.0</td>\n",
              "      <td>0.0</td>\n",
              "      <td>0.0</td>\n",
              "      <td>0.0</td>\n",
              "      <td>0.0</td>\n",
              "      <td>0.0</td>\n",
              "      <td>0.0</td>\n",
              "      <td>0.0</td>\n",
              "      <td>0.0</td>\n",
              "      <td>...</td>\n",
              "      <td>0.000000</td>\n",
              "      <td>0.0</td>\n",
              "      <td>0.0</td>\n",
              "      <td>0.0</td>\n",
              "      <td>0.0</td>\n",
              "      <td>0.0</td>\n",
              "      <td>0.0</td>\n",
              "      <td>367.056</td>\n",
              "      <td>6538.0</td>\n",
              "      <td>0</td>\n",
              "    </tr>\n",
              "    <tr>\n",
              "      <th>2</th>\n",
              "      <td>0.0</td>\n",
              "      <td>0.0</td>\n",
              "      <td>0.0</td>\n",
              "      <td>0.0</td>\n",
              "      <td>0.0</td>\n",
              "      <td>0.0</td>\n",
              "      <td>0.0</td>\n",
              "      <td>0.0</td>\n",
              "      <td>0.0</td>\n",
              "      <td>0.0</td>\n",
              "      <td>...</td>\n",
              "      <td>0.000000</td>\n",
              "      <td>0.0</td>\n",
              "      <td>0.0</td>\n",
              "      <td>0.0</td>\n",
              "      <td>0.0</td>\n",
              "      <td>0.0</td>\n",
              "      <td>0.0</td>\n",
              "      <td>224.620</td>\n",
              "      <td>2354.0</td>\n",
              "      <td>0</td>\n",
              "    </tr>\n",
              "    <tr>\n",
              "      <th>3</th>\n",
              "      <td>0.0</td>\n",
              "      <td>0.0</td>\n",
              "      <td>0.0</td>\n",
              "      <td>0.0</td>\n",
              "      <td>0.0</td>\n",
              "      <td>0.0</td>\n",
              "      <td>0.0</td>\n",
              "      <td>0.0</td>\n",
              "      <td>0.0</td>\n",
              "      <td>0.0</td>\n",
              "      <td>...</td>\n",
              "      <td>0.000000</td>\n",
              "      <td>0.0</td>\n",
              "      <td>0.0</td>\n",
              "      <td>0.0</td>\n",
              "      <td>0.0</td>\n",
              "      <td>0.0</td>\n",
              "      <td>0.0</td>\n",
              "      <td>613.157</td>\n",
              "      <td>64200.0</td>\n",
              "      <td>0</td>\n",
              "    </tr>\n",
              "    <tr>\n",
              "      <th>4</th>\n",
              "      <td>0.0</td>\n",
              "      <td>0.0</td>\n",
              "      <td>0.0</td>\n",
              "      <td>0.0</td>\n",
              "      <td>0.0</td>\n",
              "      <td>0.0</td>\n",
              "      <td>0.0</td>\n",
              "      <td>0.0</td>\n",
              "      <td>0.0</td>\n",
              "      <td>0.0</td>\n",
              "      <td>...</td>\n",
              "      <td>0.000000</td>\n",
              "      <td>0.0</td>\n",
              "      <td>0.0</td>\n",
              "      <td>0.0</td>\n",
              "      <td>0.0</td>\n",
              "      <td>0.0</td>\n",
              "      <td>0.0</td>\n",
              "      <td>3313.033</td>\n",
              "      <td>4621.0</td>\n",
              "      <td>0</td>\n",
              "    </tr>\n",
              "    <tr>\n",
              "      <th>...</th>\n",
              "      <td>...</td>\n",
              "      <td>...</td>\n",
              "      <td>...</td>\n",
              "      <td>...</td>\n",
              "      <td>...</td>\n",
              "      <td>...</td>\n",
              "      <td>...</td>\n",
              "      <td>...</td>\n",
              "      <td>...</td>\n",
              "      <td>...</td>\n",
              "      <td>...</td>\n",
              "      <td>...</td>\n",
              "      <td>...</td>\n",
              "      <td>...</td>\n",
              "      <td>...</td>\n",
              "      <td>...</td>\n",
              "      <td>...</td>\n",
              "      <td>...</td>\n",
              "      <td>...</td>\n",
              "      <td>...</td>\n",
              "      <td>...</td>\n",
              "    </tr>\n",
              "    <tr>\n",
              "      <th>1534</th>\n",
              "      <td>0.0</td>\n",
              "      <td>0.0</td>\n",
              "      <td>0.0</td>\n",
              "      <td>0.0</td>\n",
              "      <td>0.0</td>\n",
              "      <td>0.0</td>\n",
              "      <td>0.0</td>\n",
              "      <td>0.0</td>\n",
              "      <td>0.0</td>\n",
              "      <td>0.0</td>\n",
              "      <td>...</td>\n",
              "      <td>0.000000</td>\n",
              "      <td>0.0</td>\n",
              "      <td>0.0</td>\n",
              "      <td>0.0</td>\n",
              "      <td>0.0</td>\n",
              "      <td>0.0</td>\n",
              "      <td>0.0</td>\n",
              "      <td>83.827</td>\n",
              "      <td>11905.0</td>\n",
              "      <td>9</td>\n",
              "    </tr>\n",
              "    <tr>\n",
              "      <th>1535</th>\n",
              "      <td>0.0</td>\n",
              "      <td>0.0</td>\n",
              "      <td>0.0</td>\n",
              "      <td>0.0</td>\n",
              "      <td>0.0</td>\n",
              "      <td>0.0</td>\n",
              "      <td>0.0</td>\n",
              "      <td>0.0</td>\n",
              "      <td>0.0</td>\n",
              "      <td>0.0</td>\n",
              "      <td>...</td>\n",
              "      <td>0.000000</td>\n",
              "      <td>0.0</td>\n",
              "      <td>0.0</td>\n",
              "      <td>0.0</td>\n",
              "      <td>0.0</td>\n",
              "      <td>0.0</td>\n",
              "      <td>0.0</td>\n",
              "      <td>775.001</td>\n",
              "      <td>22897.0</td>\n",
              "      <td>9</td>\n",
              "    </tr>\n",
              "    <tr>\n",
              "      <th>1536</th>\n",
              "      <td>0.0</td>\n",
              "      <td>0.0</td>\n",
              "      <td>0.0</td>\n",
              "      <td>0.0</td>\n",
              "      <td>0.0</td>\n",
              "      <td>0.0</td>\n",
              "      <td>0.0</td>\n",
              "      <td>0.0</td>\n",
              "      <td>0.0</td>\n",
              "      <td>0.0</td>\n",
              "      <td>...</td>\n",
              "      <td>0.000000</td>\n",
              "      <td>0.0</td>\n",
              "      <td>0.0</td>\n",
              "      <td>0.0</td>\n",
              "      <td>0.0</td>\n",
              "      <td>0.0</td>\n",
              "      <td>0.0</td>\n",
              "      <td>310.138</td>\n",
              "      <td>30510.0</td>\n",
              "      <td>9</td>\n",
              "    </tr>\n",
              "    <tr>\n",
              "      <th>1537</th>\n",
              "      <td>0.0</td>\n",
              "      <td>0.0</td>\n",
              "      <td>0.0</td>\n",
              "      <td>0.0</td>\n",
              "      <td>0.0</td>\n",
              "      <td>0.0</td>\n",
              "      <td>0.0</td>\n",
              "      <td>0.0</td>\n",
              "      <td>0.0</td>\n",
              "      <td>0.0</td>\n",
              "      <td>...</td>\n",
              "      <td>0.000000</td>\n",
              "      <td>0.0</td>\n",
              "      <td>0.0</td>\n",
              "      <td>0.0</td>\n",
              "      <td>0.0</td>\n",
              "      <td>0.0</td>\n",
              "      <td>0.0</td>\n",
              "      <td>337.538</td>\n",
              "      <td>66448.0</td>\n",
              "      <td>9</td>\n",
              "    </tr>\n",
              "    <tr>\n",
              "      <th>1538</th>\n",
              "      <td>0.0</td>\n",
              "      <td>0.0</td>\n",
              "      <td>0.0</td>\n",
              "      <td>0.0</td>\n",
              "      <td>0.0</td>\n",
              "      <td>0.0</td>\n",
              "      <td>0.0</td>\n",
              "      <td>0.0</td>\n",
              "      <td>0.0</td>\n",
              "      <td>0.0</td>\n",
              "      <td>...</td>\n",
              "      <td>0.107565</td>\n",
              "      <td>0.0</td>\n",
              "      <td>0.0</td>\n",
              "      <td>0.0</td>\n",
              "      <td>0.0</td>\n",
              "      <td>0.0</td>\n",
              "      <td>0.0</td>\n",
              "      <td>50.102</td>\n",
              "      <td>6090.0</td>\n",
              "      <td>9</td>\n",
              "    </tr>\n",
              "  </tbody>\n",
              "</table>\n",
              "<p>1539 rows × 3976 columns</p>\n",
              "</div>\n",
              "      <button class=\"colab-df-convert\" onclick=\"convertToInteractive('df-8b2c7638-da8a-4080-83e0-0e29886f138d')\"\n",
              "              title=\"Convert this dataframe to an interactive table.\"\n",
              "              style=\"display:none;\">\n",
              "        \n",
              "  <svg xmlns=\"http://www.w3.org/2000/svg\" height=\"24px\"viewBox=\"0 0 24 24\"\n",
              "       width=\"24px\">\n",
              "    <path d=\"M0 0h24v24H0V0z\" fill=\"none\"/>\n",
              "    <path d=\"M18.56 5.44l.94 2.06.94-2.06 2.06-.94-2.06-.94-.94-2.06-.94 2.06-2.06.94zm-11 1L8.5 8.5l.94-2.06 2.06-.94-2.06-.94L8.5 2.5l-.94 2.06-2.06.94zm10 10l.94 2.06.94-2.06 2.06-.94-2.06-.94-.94-2.06-.94 2.06-2.06.94z\"/><path d=\"M17.41 7.96l-1.37-1.37c-.4-.4-.92-.59-1.43-.59-.52 0-1.04.2-1.43.59L10.3 9.45l-7.72 7.72c-.78.78-.78 2.05 0 2.83L4 21.41c.39.39.9.59 1.41.59.51 0 1.02-.2 1.41-.59l7.78-7.78 2.81-2.81c.8-.78.8-2.07 0-2.86zM5.41 20L4 18.59l7.72-7.72 1.47 1.35L5.41 20z\"/>\n",
              "  </svg>\n",
              "      </button>\n",
              "      \n",
              "  <style>\n",
              "    .colab-df-container {\n",
              "      display:flex;\n",
              "      flex-wrap:wrap;\n",
              "      gap: 12px;\n",
              "    }\n",
              "\n",
              "    .colab-df-convert {\n",
              "      background-color: #E8F0FE;\n",
              "      border: none;\n",
              "      border-radius: 50%;\n",
              "      cursor: pointer;\n",
              "      display: none;\n",
              "      fill: #1967D2;\n",
              "      height: 32px;\n",
              "      padding: 0 0 0 0;\n",
              "      width: 32px;\n",
              "    }\n",
              "\n",
              "    .colab-df-convert:hover {\n",
              "      background-color: #E2EBFA;\n",
              "      box-shadow: 0px 1px 2px rgba(60, 64, 67, 0.3), 0px 1px 3px 1px rgba(60, 64, 67, 0.15);\n",
              "      fill: #174EA6;\n",
              "    }\n",
              "\n",
              "    [theme=dark] .colab-df-convert {\n",
              "      background-color: #3B4455;\n",
              "      fill: #D2E3FC;\n",
              "    }\n",
              "\n",
              "    [theme=dark] .colab-df-convert:hover {\n",
              "      background-color: #434B5C;\n",
              "      box-shadow: 0px 1px 3px 1px rgba(0, 0, 0, 0.15);\n",
              "      filter: drop-shadow(0px 1px 2px rgba(0, 0, 0, 0.3));\n",
              "      fill: #FFFFFF;\n",
              "    }\n",
              "  </style>\n",
              "\n",
              "      <script>\n",
              "        const buttonEl =\n",
              "          document.querySelector('#df-8b2c7638-da8a-4080-83e0-0e29886f138d button.colab-df-convert');\n",
              "        buttonEl.style.display =\n",
              "          google.colab.kernel.accessAllowed ? 'block' : 'none';\n",
              "\n",
              "        async function convertToInteractive(key) {\n",
              "          const element = document.querySelector('#df-8b2c7638-da8a-4080-83e0-0e29886f138d');\n",
              "          const dataTable =\n",
              "            await google.colab.kernel.invokeFunction('convertToInteractive',\n",
              "                                                     [key], {});\n",
              "          if (!dataTable) return;\n",
              "\n",
              "          const docLinkHtml = 'Like what you see? Visit the ' +\n",
              "            '<a target=\"_blank\" href=https://colab.research.google.com/notebooks/data_table.ipynb>data table notebook</a>'\n",
              "            + ' to learn more about interactive tables.';\n",
              "          element.innerHTML = '';\n",
              "          dataTable['output_type'] = 'display_data';\n",
              "          await google.colab.output.renderOutput(dataTable, element);\n",
              "          const docLink = document.createElement('div');\n",
              "          docLink.innerHTML = docLinkHtml;\n",
              "          element.appendChild(docLink);\n",
              "        }\n",
              "      </script>\n",
              "    </div>\n",
              "  </div>\n",
              "  "
            ]
          },
          "metadata": {},
          "execution_count": 15
        }
      ]
    },
    {
      "cell_type": "code",
      "source": [
        "z = k[k['genre'] == 7]\n",
        "j = k"
      ],
      "metadata": {
        "id": "0TOWtAac136e"
      },
      "execution_count": 16,
      "outputs": []
    },
    {
      "cell_type": "code",
      "source": [
        "from imblearn.over_sampling import SMOTE\n",
        "\n",
        "smote = SMOTE(sampling_strategy='minority')\n",
        "\n",
        "for i in range(0,10):\n",
        "\n",
        "  if i != 7:\n",
        "\n",
        "    p = pd.concat([j[j['genre'] == 7] , j[j['genre'] == i]] , axis = 0)\n",
        "\n",
        "    X1 = p.drop(['genre'] , axis = 1)\n",
        "    y1 = p['genre']\n",
        "    X1 , y1 = smote.fit_resample(X1 , y1)\n",
        "\n",
        "    o = pd.concat([X1 , y1] , axis = 1)\n",
        "    o = o[o['genre'] == i]\n",
        "\n",
        "    z =  pd.concat([o , z] , axis = 0)"
      ],
      "metadata": {
        "id": "wjSZ7RWN1386"
      },
      "execution_count": 17,
      "outputs": []
    },
    {
      "cell_type": "code",
      "source": [
        "A_train1, A_test1, b_train1, b_test1 = train_test_split(z.drop(['genre'] , axis = 1),z['genre'], test_size=0.20, random_state=42 ,shuffle = True)"
      ],
      "metadata": {
        "id": "WdMiCJLV14A8"
      },
      "execution_count": 18,
      "outputs": []
    },
    {
      "cell_type": "code",
      "source": [
        "def build2_model(model):\n",
        "  model.fit(A_train1 , b_train1)\n",
        "  b_pred1 = model.predict(A_test1)\n",
        "  \n",
        "  print(classification_report(b_test1, b_pred1))\n",
        "  print()\n",
        "\n",
        "  cm = confusion_matrix(b_test1 , b_pred1)\n",
        "  cm_df = pd.DataFrame(data = cm, columns = np.arange(10) , index = np.arange(10))\n",
        "\n",
        "  sns.heatmap(cm_df , annot = True , cbar = False , fmt='d')\n",
        "\n",
        "  plt.show()"
      ],
      "metadata": {
        "id": "RaA4xeFk14EG"
      },
      "execution_count": 19,
      "outputs": []
    },
    {
      "cell_type": "code",
      "source": [
        "import warnings\n",
        "warnings.filterwarnings('ignore')\n",
        "\n",
        "\n",
        "model2 = RandomForestClassifier(class_weight = 'balanced')\n",
        "build2_model(model2)\n"
      ],
      "metadata": {
        "colab": {
          "base_uri": "https://localhost:8080/",
          "height": 577
        },
        "id": "-Al4CNU789_Q",
        "outputId": "108bf2f0-5df0-477b-fc08-f6d8b6681e7d"
      },
      "execution_count": 74,
      "outputs": [
        {
          "output_type": "stream",
          "name": "stdout",
          "text": [
            "              precision    recall  f1-score   support\n",
            "\n",
            "           0       1.00      1.00      1.00        98\n",
            "           1       0.92      0.98      0.95        92\n",
            "           2       1.00      0.99      0.99        79\n",
            "           3       0.98      0.96      0.97        83\n",
            "           4       1.00      1.00      1.00        86\n",
            "           5       1.00      1.00      1.00       103\n",
            "           6       1.00      0.98      0.99        97\n",
            "           7       0.91      0.91      0.91       112\n",
            "           8       0.98      0.99      0.98        98\n",
            "           9       0.96      0.94      0.95       114\n",
            "\n",
            "    accuracy                           0.97       962\n",
            "   macro avg       0.97      0.97      0.97       962\n",
            "weighted avg       0.97      0.97      0.97       962\n",
            "\n",
            "\n"
          ]
        },
        {
          "output_type": "display_data",
          "data": {
            "text/plain": [
              "<Figure size 432x288 with 1 Axes>"
            ],
            "image/png": "[encoded data removed]"
          },
          "metadata": {
            "needs_background": "light"
          }
        }
      ]
    },
    {
      "cell_type": "code",
      "source": [
        "!pip install -U pip setuptools wheel\n",
        "!pip install -U spacy\n",
        "!python -m spacy download en_core_web_lg"
      ],
      "metadata": {
        "id": "yGoUCLPj-oVq"
      },
      "execution_count": null,
      "outputs": []
    },
    {
      "cell_type": "code",
      "source": [],
      "metadata": {
        "id": "i5GjeAKfiCq5"
      },
      "execution_count": null,
      "outputs": []
    },
    {
      "cell_type": "code",
      "source": [
        "R"
      ],
      "metadata": {
        "colab": {
          "base_uri": "https://localhost:8080/",
          "height": 488
        },
        "id": "by-jyFcriCHi",
        "outputId": "2f4495cb-338d-4be9-b984-995123d489b1"
      },
      "execution_count": 27,
      "outputs": [
        {
          "output_type": "execute_result",
          "data": {
            "text/plain": [
              "      num_ratings  num_followers  genre         0         1         2  \\\n",
              "0         806.229        30500.0      0 -0.409920  0.159760 -1.528096   \n",
              "1         367.056         6538.0      0 -0.390582 -0.267409 -0.738756   \n",
              "2         224.620         2354.0      0 -0.656235  0.693299 -1.116402   \n",
              "3         613.157        64200.0      0 -1.014607  0.173381 -1.063239   \n",
              "4        3313.033         4621.0      0 -0.473540  0.224192 -1.293904   \n",
              "...           ...            ...    ...       ...       ...       ...   \n",
              "1534       83.827        11905.0      9 -0.328997  0.740921 -0.823344   \n",
              "1535      775.001        22897.0      9 -0.217161  0.529808 -1.356024   \n",
              "1536      310.138        30510.0      9 -0.897701  0.639048 -1.658144   \n",
              "1537      337.538        66448.0      9 -0.272245  0.390302 -1.842149   \n",
              "1538       50.102         6090.0      9 -0.504660  0.595050 -1.276576   \n",
              "\n",
              "             3         4         5         6  ...       290       291  \\\n",
              "0    -0.586289  1.047326  0.587542  1.008818  ...  1.427515 -0.932434   \n",
              "1    -0.543860  1.949913  0.131504  0.914915  ...  1.459256 -0.603876   \n",
              "2     0.188011  2.102207  0.552836  0.778393  ...  0.485169 -0.328163   \n",
              "3    -0.743084  1.151055  0.152210  1.068548  ...  0.760853 -0.526790   \n",
              "4    -0.654893  1.423605  0.288577  1.720631  ...  1.511957 -0.468626   \n",
              "...        ...       ...       ...       ...  ...       ...       ...   \n",
              "1534 -0.390233  0.444715  0.633112  0.562548  ...  0.878354 -0.449170   \n",
              "1535  0.042724  0.476237  0.591021  0.516905  ...  0.609948 -0.434260   \n",
              "1536 -0.466075  1.216423  0.415931  1.240685  ...  1.276569 -0.166725   \n",
              "1537 -0.200995  0.997272  0.077679  0.693446  ...  0.842511  0.028112   \n",
              "1538 -0.533271  0.882343  0.309914  0.539626  ...  0.991886 -0.195872   \n",
              "\n",
              "           292       293       294       295       296       297       298  \\\n",
              "0    -0.390372 -0.850267 -0.033215 -0.503522  0.504131 -0.020453 -1.847532   \n",
              "1     0.153285  0.011425 -0.958693 -0.333160  0.636472 -1.011338 -1.459173   \n",
              "2     0.020396 -0.283038 -0.693091  0.543795  0.006498 -1.098481 -1.724967   \n",
              "3     0.676904  0.198933 -1.154588 -0.201563  0.756608  0.067416 -1.682554   \n",
              "4    -0.161087 -0.447313 -0.409637 -0.389678  0.551970  0.271156 -1.889230   \n",
              "...        ...       ...       ...       ...       ...       ...       ...   \n",
              "1534  0.468799 -0.437383 -0.523878  0.317808  0.069541  0.467803 -2.107172   \n",
              "1535  0.257656  0.063396 -1.233435  0.227214  0.158520  0.745287 -1.235963   \n",
              "1536 -0.072541 -0.847106 -0.474877 -0.231624 -0.200912  0.593385 -1.994344   \n",
              "1537 -0.096223 -0.820386 -1.014927  0.353315  0.358884  1.056699 -1.472319   \n",
              "1538 -0.202120 -0.720911 -0.367518 -0.258538  0.134911  0.286203 -1.880448   \n",
              "\n",
              "           299  \n",
              "0     0.694843  \n",
              "1     0.698550  \n",
              "2     0.751055  \n",
              "3     0.746659  \n",
              "4     0.271270  \n",
              "...        ...  \n",
              "1534  0.183227  \n",
              "1535 -0.401985  \n",
              "1536  0.296224  \n",
              "1537  0.202805  \n",
              "1538  0.653884  \n",
              "\n",
              "[1539 rows x 303 columns]"
            ],
            "text/html": [
              "\n",
              "  <div id=\"df-1c491c9c-8b28-4156-bc25-624d7c7e7ce4\">\n",
              "    <div class=\"colab-df-container\">\n",
              "      <div>\n",
              "<style scoped>\n",
              "    .dataframe tbody tr th:only-of-type {\n",
              "        vertical-align: middle;\n",
              "    }\n",
              "\n",
              "    .dataframe tbody tr th {\n",
              "        vertical-align: top;\n",
              "    }\n",
              "\n",
              "    .dataframe thead th {\n",
              "        text-align: right;\n",
              "    }\n",
              "</style>\n",
              "<table border=\"1\" class=\"dataframe\">\n",
              "  <thead>\n",
              "    <tr style=\"text-align: right;\">\n",
              "      <th></th>\n",
              "      <th>num_ratings</th>\n",
              "      <th>num_followers</th>\n",
              "      <th>genre</th>\n",
              "      <th>0</th>\n",
              "      <th>1</th>\n",
              "      <th>2</th>\n",
              "      <th>3</th>\n",
              "      <th>4</th>\n",
              "      <th>5</th>\n",
              "      <th>6</th>\n",
              "      <th>...</th>\n",
              "      <th>290</th>\n",
              "      <th>291</th>\n",
              "      <th>292</th>\n",
              "      <th>293</th>\n",
              "      <th>294</th>\n",
              "      <th>295</th>\n",
              "      <th>296</th>\n",
              "      <th>297</th>\n",
              "      <th>298</th>\n",
              "      <th>299</th>\n",
              "    </tr>\n",
              "  </thead>\n",
              "  <tbody>\n",
              "    <tr>\n",
              "      <th>0</th>\n",
              "      <td>806.229</td>\n",
              "      <td>30500.0</td>\n",
              "      <td>0</td>\n",
              "      <td>-0.409920</td>\n",
              "      <td>0.159760</td>\n",
              "      <td>-1.528096</td>\n",
              "      <td>-0.586289</td>\n",
              "      <td>1.047326</td>\n",
              "      <td>0.587542</td>\n",
              "      <td>1.008818</td>\n",
              "      <td>...</td>\n",
              "      <td>1.427515</td>\n",
              "      <td>-0.932434</td>\n",
              "      <td>-0.390372</td>\n",
              "      <td>-0.850267</td>\n",
              "      <td>-0.033215</td>\n",
              "      <td>-0.503522</td>\n",
              "      <td>0.504131</td>\n",
              "      <td>-0.020453</td>\n",
              "      <td>-1.847532</td>\n",
              "      <td>0.694843</td>\n",
              "    </tr>\n",
              "    <tr>\n",
              "      <th>1</th>\n",
              "      <td>367.056</td>\n",
              "      <td>6538.0</td>\n",
              "      <td>0</td>\n",
              "      <td>-0.390582</td>\n",
              "      <td>-0.267409</td>\n",
              "      <td>-0.738756</td>\n",
              "      <td>-0.543860</td>\n",
              "      <td>1.949913</td>\n",
              "      <td>0.131504</td>\n",
              "      <td>0.914915</td>\n",
              "      <td>...</td>\n",
              "      <td>1.459256</td>\n",
              "      <td>-0.603876</td>\n",
              "      <td>0.153285</td>\n",
              "      <td>0.011425</td>\n",
              "      <td>-0.958693</td>\n",
              "      <td>-0.333160</td>\n",
              "      <td>0.636472</td>\n",
              "      <td>-1.011338</td>\n",
              "      <td>-1.459173</td>\n",
              "      <td>0.698550</td>\n",
              "    </tr>\n",
              "    <tr>\n",
              "      <th>2</th>\n",
              "      <td>224.620</td>\n",
              "      <td>2354.0</td>\n",
              "      <td>0</td>\n",
              "      <td>-0.656235</td>\n",
              "      <td>0.693299</td>\n",
              "      <td>-1.116402</td>\n",
              "      <td>0.188011</td>\n",
              "      <td>2.102207</td>\n",
              "      <td>0.552836</td>\n",
              "      <td>0.778393</td>\n",
              "      <td>...</td>\n",
              "      <td>0.485169</td>\n",
              "      <td>-0.328163</td>\n",
              "      <td>0.020396</td>\n",
              "      <td>-0.283038</td>\n",
              "      <td>-0.693091</td>\n",
              "      <td>0.543795</td>\n",
              "      <td>0.006498</td>\n",
              "      <td>-1.098481</td>\n",
              "      <td>-1.724967</td>\n",
              "      <td>0.751055</td>\n",
              "    </tr>\n",
              "    <tr>\n",
              "      <th>3</th>\n",
              "      <td>613.157</td>\n",
              "      <td>64200.0</td>\n",
              "      <td>0</td>\n",
              "      <td>-1.014607</td>\n",
              "      <td>0.173381</td>\n",
              "      <td>-1.063239</td>\n",
              "      <td>-0.743084</td>\n",
              "      <td>1.151055</td>\n",
              "      <td>0.152210</td>\n",
              "      <td>1.068548</td>\n",
              "      <td>...</td>\n",
              "      <td>0.760853</td>\n",
              "      <td>-0.526790</td>\n",
              "      <td>0.676904</td>\n",
              "      <td>0.198933</td>\n",
              "      <td>-1.154588</td>\n",
              "      <td>-0.201563</td>\n",
              "      <td>0.756608</td>\n",
              "      <td>0.067416</td>\n",
              "      <td>-1.682554</td>\n",
              "      <td>0.746659</td>\n",
              "    </tr>\n",
              "    <tr>\n",
              "      <th>4</th>\n",
              "      <td>3313.033</td>\n",
              "      <td>4621.0</td>\n",
              "      <td>0</td>\n",
              "      <td>-0.473540</td>\n",
              "      <td>0.224192</td>\n",
              "      <td>-1.293904</td>\n",
              "      <td>-0.654893</td>\n",
              "      <td>1.423605</td>\n",
              "      <td>0.288577</td>\n",
              "      <td>1.720631</td>\n",
              "      <td>...</td>\n",
              "      <td>1.511957</td>\n",
              "      <td>-0.468626</td>\n",
              "      <td>-0.161087</td>\n",
              "      <td>-0.447313</td>\n",
              "      <td>-0.409637</td>\n",
              "      <td>-0.389678</td>\n",
              "      <td>0.551970</td>\n",
              "      <td>0.271156</td>\n",
              "      <td>-1.889230</td>\n",
              "      <td>0.271270</td>\n",
              "    </tr>\n",
              "    <tr>\n",
              "      <th>...</th>\n",
              "      <td>...</td>\n",
              "      <td>...</td>\n",
              "      <td>...</td>\n",
              "      <td>...</td>\n",
              "      <td>...</td>\n",
              "      <td>...</td>\n",
              "      <td>...</td>\n",
              "      <td>...</td>\n",
              "      <td>...</td>\n",
              "      <td>...</td>\n",
              "      <td>...</td>\n",
              "      <td>...</td>\n",
              "      <td>...</td>\n",
              "      <td>...</td>\n",
              "      <td>...</td>\n",
              "      <td>...</td>\n",
              "      <td>...</td>\n",
              "      <td>...</td>\n",
              "      <td>...</td>\n",
              "      <td>...</td>\n",
              "      <td>...</td>\n",
              "    </tr>\n",
              "    <tr>\n",
              "      <th>1534</th>\n",
              "      <td>83.827</td>\n",
              "      <td>11905.0</td>\n",
              "      <td>9</td>\n",
              "      <td>-0.328997</td>\n",
              "      <td>0.740921</td>\n",
              "      <td>-0.823344</td>\n",
              "      <td>-0.390233</td>\n",
              "      <td>0.444715</td>\n",
              "      <td>0.633112</td>\n",
              "      <td>0.562548</td>\n",
              "      <td>...</td>\n",
              "      <td>0.878354</td>\n",
              "      <td>-0.449170</td>\n",
              "      <td>0.468799</td>\n",
              "      <td>-0.437383</td>\n",
              "      <td>-0.523878</td>\n",
              "      <td>0.317808</td>\n",
              "      <td>0.069541</td>\n",
              "      <td>0.467803</td>\n",
              "      <td>-2.107172</td>\n",
              "      <td>0.183227</td>\n",
              "    </tr>\n",
              "    <tr>\n",
              "      <th>1535</th>\n",
              "      <td>775.001</td>\n",
              "      <td>22897.0</td>\n",
              "      <td>9</td>\n",
              "      <td>-0.217161</td>\n",
              "      <td>0.529808</td>\n",
              "      <td>-1.356024</td>\n",
              "      <td>0.042724</td>\n",
              "      <td>0.476237</td>\n",
              "      <td>0.591021</td>\n",
              "      <td>0.516905</td>\n",
              "      <td>...</td>\n",
              "      <td>0.609948</td>\n",
              "      <td>-0.434260</td>\n",
              "      <td>0.257656</td>\n",
              "      <td>0.063396</td>\n",
              "      <td>-1.233435</td>\n",
              "      <td>0.227214</td>\n",
              "      <td>0.158520</td>\n",
              "      <td>0.745287</td>\n",
              "      <td>-1.235963</td>\n",
              "      <td>-0.401985</td>\n",
              "    </tr>\n",
              "    <tr>\n",
              "      <th>1536</th>\n",
              "      <td>310.138</td>\n",
              "      <td>30510.0</td>\n",
              "      <td>9</td>\n",
              "      <td>-0.897701</td>\n",
              "      <td>0.639048</td>\n",
              "      <td>-1.658144</td>\n",
              "      <td>-0.466075</td>\n",
              "      <td>1.216423</td>\n",
              "      <td>0.415931</td>\n",
              "      <td>1.240685</td>\n",
              "      <td>...</td>\n",
              "      <td>1.276569</td>\n",
              "      <td>-0.166725</td>\n",
              "      <td>-0.072541</td>\n",
              "      <td>-0.847106</td>\n",
              "      <td>-0.474877</td>\n",
              "      <td>-0.231624</td>\n",
              "      <td>-0.200912</td>\n",
              "      <td>0.593385</td>\n",
              "      <td>-1.994344</td>\n",
              "      <td>0.296224</td>\n",
              "    </tr>\n",
              "    <tr>\n",
              "      <th>1537</th>\n",
              "      <td>337.538</td>\n",
              "      <td>66448.0</td>\n",
              "      <td>9</td>\n",
              "      <td>-0.272245</td>\n",
              "      <td>0.390302</td>\n",
              "      <td>-1.842149</td>\n",
              "      <td>-0.200995</td>\n",
              "      <td>0.997272</td>\n",
              "      <td>0.077679</td>\n",
              "      <td>0.693446</td>\n",
              "      <td>...</td>\n",
              "      <td>0.842511</td>\n",
              "      <td>0.028112</td>\n",
              "      <td>-0.096223</td>\n",
              "      <td>-0.820386</td>\n",
              "      <td>-1.014927</td>\n",
              "      <td>0.353315</td>\n",
              "      <td>0.358884</td>\n",
              "      <td>1.056699</td>\n",
              "      <td>-1.472319</td>\n",
              "      <td>0.202805</td>\n",
              "    </tr>\n",
              "    <tr>\n",
              "      <th>1538</th>\n",
              "      <td>50.102</td>\n",
              "      <td>6090.0</td>\n",
              "      <td>9</td>\n",
              "      <td>-0.504660</td>\n",
              "      <td>0.595050</td>\n",
              "      <td>-1.276576</td>\n",
              "      <td>-0.533271</td>\n",
              "      <td>0.882343</td>\n",
              "      <td>0.309914</td>\n",
              "      <td>0.539626</td>\n",
              "      <td>...</td>\n",
              "      <td>0.991886</td>\n",
              "      <td>-0.195872</td>\n",
              "      <td>-0.202120</td>\n",
              "      <td>-0.720911</td>\n",
              "      <td>-0.367518</td>\n",
              "      <td>-0.258538</td>\n",
              "      <td>0.134911</td>\n",
              "      <td>0.286203</td>\n",
              "      <td>-1.880448</td>\n",
              "      <td>0.653884</td>\n",
              "    </tr>\n",
              "  </tbody>\n",
              "</table>\n",
              "<p>1539 rows × 303 columns</p>\n",
              "</div>\n",
              "      <button class=\"colab-df-convert\" onclick=\"convertToInteractive('df-1c491c9c-8b28-4156-bc25-624d7c7e7ce4')\"\n",
              "              title=\"Convert this dataframe to an interactive table.\"\n",
              "              style=\"display:none;\">\n",
              "        \n",
              "  <svg xmlns=\"http://www.w3.org/2000/svg\" height=\"24px\"viewBox=\"0 0 24 24\"\n",
              "       width=\"24px\">\n",
              "    <path d=\"M0 0h24v24H0V0z\" fill=\"none\"/>\n",
              "    <path d=\"M18.56 5.44l.94 2.06.94-2.06 2.06-.94-2.06-.94-.94-2.06-.94 2.06-2.06.94zm-11 1L8.5 8.5l.94-2.06 2.06-.94-2.06-.94L8.5 2.5l-.94 2.06-2.06.94zm10 10l.94 2.06.94-2.06 2.06-.94-2.06-.94-.94-2.06-.94 2.06-2.06.94z\"/><path d=\"M17.41 7.96l-1.37-1.37c-.4-.4-.92-.59-1.43-.59-.52 0-1.04.2-1.43.59L10.3 9.45l-7.72 7.72c-.78.78-.78 2.05 0 2.83L4 21.41c.39.39.9.59 1.41.59.51 0 1.02-.2 1.41-.59l7.78-7.78 2.81-2.81c.8-.78.8-2.07 0-2.86zM5.41 20L4 18.59l7.72-7.72 1.47 1.35L5.41 20z\"/>\n",
              "  </svg>\n",
              "      </button>\n",
              "      \n",
              "  <style>\n",
              "    .colab-df-container {\n",
              "      display:flex;\n",
              "      flex-wrap:wrap;\n",
              "      gap: 12px;\n",
              "    }\n",
              "\n",
              "    .colab-df-convert {\n",
              "      background-color: #E8F0FE;\n",
              "      border: none;\n",
              "      border-radius: 50%;\n",
              "      cursor: pointer;\n",
              "      display: none;\n",
              "      fill: #1967D2;\n",
              "      height: 32px;\n",
              "      padding: 0 0 0 0;\n",
              "      width: 32px;\n",
              "    }\n",
              "\n",
              "    .colab-df-convert:hover {\n",
              "      background-color: #E2EBFA;\n",
              "      box-shadow: 0px 1px 2px rgba(60, 64, 67, 0.3), 0px 1px 3px 1px rgba(60, 64, 67, 0.15);\n",
              "      fill: #174EA6;\n",
              "    }\n",
              "\n",
              "    [theme=dark] .colab-df-convert {\n",
              "      background-color: #3B4455;\n",
              "      fill: #D2E3FC;\n",
              "    }\n",
              "\n",
              "    [theme=dark] .colab-df-convert:hover {\n",
              "      background-color: #434B5C;\n",
              "      box-shadow: 0px 1px 3px 1px rgba(0, 0, 0, 0.15);\n",
              "      filter: drop-shadow(0px 1px 2px rgba(0, 0, 0, 0.3));\n",
              "      fill: #FFFFFF;\n",
              "    }\n",
              "  </style>\n",
              "\n",
              "      <script>\n",
              "        const buttonEl =\n",
              "          document.querySelector('#df-1c491c9c-8b28-4156-bc25-624d7c7e7ce4 button.colab-df-convert');\n",
              "        buttonEl.style.display =\n",
              "          google.colab.kernel.accessAllowed ? 'block' : 'none';\n",
              "\n",
              "        async function convertToInteractive(key) {\n",
              "          const element = document.querySelector('#df-1c491c9c-8b28-4156-bc25-624d7c7e7ce4');\n",
              "          const dataTable =\n",
              "            await google.colab.kernel.invokeFunction('convertToInteractive',\n",
              "                                                     [key], {});\n",
              "          if (!dataTable) return;\n",
              "\n",
              "          const docLinkHtml = 'Like what you see? Visit the ' +\n",
              "            '<a target=\"_blank\" href=https://colab.research.google.com/notebooks/data_table.ipynb>data table notebook</a>'\n",
              "            + ' to learn more about interactive tables.';\n",
              "          element.innerHTML = '';\n",
              "          dataTable['output_type'] = 'display_data';\n",
              "          await google.colab.output.renderOutput(dataTable, element);\n",
              "          const docLink = document.createElement('div');\n",
              "          docLink.innerHTML = docLinkHtml;\n",
              "          element.appendChild(docLink);\n",
              "        }\n",
              "      </script>\n",
              "    </div>\n",
              "  </div>\n",
              "  "
            ]
          },
          "metadata": {},
          "execution_count": 27
        }
      ]
    },
    {
      "cell_type": "code",
      "source": [
        "import spacy\n",
        "nlp = spacy.load(\"en_core_web_lg\")\n",
        "\n",
        "X['vector'] = X['tags'].apply(lambda tags: nlp(tags).vector)\n",
        "\n",
        "xm = np.stack(X['vector'])\n",
        "\n"
      ],
      "metadata": {
        "id": "qlYBY2xa898I"
      },
      "execution_count": 22,
      "outputs": []
    },
    {
      "cell_type": "code",
      "source": [
        "P = pd.DataFrame(xm)\n",
        "R = pd.concat([X.drop(['tags' , 'vector'] , axis = 1) , P] , axis = 1) \n",
        "\n"
      ],
      "metadata": {
        "id": "r_KkCHtTifS_"
      },
      "execution_count": null,
      "outputs": []
    },
    {
      "cell_type": "code",
      "source": [
        "z = R[R['genre'] == 7]\n",
        "j = R"
      ],
      "metadata": {
        "id": "ENz1Yz3ajBuE"
      },
      "execution_count": 28,
      "outputs": []
    },
    {
      "cell_type": "code",
      "source": [
        "from imblearn.over_sampling import SMOTE\n",
        "\n",
        "smote = SMOTE(sampling_strategy='minority')\n",
        "\n",
        "for i in range(0,10):\n",
        "\n",
        "  if i != 7:\n",
        "\n",
        "    p = pd.concat([j[j['genre'] == 7] , j[j['genre'] == i]] , axis = 0)\n",
        "\n",
        "    X1 = p.drop(['genre'] , axis = 1)\n",
        "    y1 = p['genre']\n",
        "    X1 , y1 = smote.fit_resample(X1 , y1)\n",
        "\n",
        "    o = pd.concat([X1 , y1] , axis = 1)\n",
        "    o = o[o['genre'] == i]\n",
        "\n",
        "    z =  pd.concat([o , z] , axis = 0)"
      ],
      "metadata": {
        "id": "IK7T01cni_QP"
      },
      "execution_count": 29,
      "outputs": []
    },
    {
      "cell_type": "code",
      "source": [
        "z['genre'].value_counts()"
      ],
      "metadata": {
        "colab": {
          "base_uri": "https://localhost:8080/"
        },
        "id": "-bAYrKvajXrS",
        "outputId": "788c6fef-0570-437a-ecb6-e0f0df39a240"
      },
      "execution_count": 31,
      "outputs": [
        {
          "output_type": "execute_result",
          "data": {
            "text/plain": [
              "9    481\n",
              "8    481\n",
              "6    481\n",
              "5    481\n",
              "4    481\n",
              "3    481\n",
              "2    481\n",
              "1    481\n",
              "0    481\n",
              "7    481\n",
              "Name: genre, dtype: int64"
            ]
          },
          "metadata": {},
          "execution_count": 31
        }
      ]
    },
    {
      "cell_type": "code",
      "source": [
        "A_train2, A_test2, b_train2, b_test2 = train_test_split(z.drop(['genre'] , axis = 1),z['genre'], test_size=0.20, random_state=42 ,shuffle = True)"
      ],
      "metadata": {
        "id": "tGkCFSs1ik6u"
      },
      "execution_count": 32,
      "outputs": []
    },
    {
      "cell_type": "code",
      "source": [
        "\n",
        "def build3_model(model):\n",
        "  model.fit(A_train2 , b_train2)\n",
        "  b_pred2 = model.predict(A_test2)\n",
        "  \n",
        "  print(classification_report(b_test2, b_pred2))\n",
        "  print()\n",
        "\n",
        "  cm = confusion_matrix(b_test2 , b_pred2)\n",
        "  cm_df = pd.DataFrame(data = cm, columns = np.arange(10) , index = np.arange(10))\n",
        "\n",
        "  sns.heatmap(cm_df , annot = True , cbar = False , fmt='d')\n",
        "\n",
        "  plt.show()\n",
        "\n",
        "  "
      ],
      "metadata": {
        "id": "Ol3Q4HFe895S"
      },
      "execution_count": 39,
      "outputs": []
    },
    {
      "cell_type": "code",
      "source": [],
      "metadata": {
        "id": "589dRIFLkmlu"
      },
      "execution_count": null,
      "outputs": []
    },
    {
      "cell_type": "code",
      "source": [
        "import warnings\n",
        "warnings.filterwarnings('ignore')\n",
        "\n",
        "model2 = RandomForestClassifier(class_weight = 'balanced')\n",
        "build3_model(model2)\n",
        "\n"
      ],
      "metadata": {
        "colab": {
          "base_uri": "https://localhost:8080/",
          "height": 577
        },
        "id": "QmDHi0X_89z6",
        "outputId": "3b808ba8-fa6f-44bb-8508-ae52d17409bc"
      },
      "execution_count": 34,
      "outputs": [
        {
          "output_type": "stream",
          "name": "stdout",
          "text": [
            "              precision    recall  f1-score   support\n",
            "\n",
            "           0       0.87      0.98      0.92        98\n",
            "           1       0.87      0.95      0.91        92\n",
            "           2       0.99      0.99      0.99        79\n",
            "           3       0.85      0.92      0.88        83\n",
            "           4       0.98      0.98      0.98        86\n",
            "           5       0.97      1.00      0.99       103\n",
            "           6       0.97      1.00      0.98        97\n",
            "           7       0.88      0.69      0.77       112\n",
            "           8       0.98      0.96      0.97        98\n",
            "           9       0.89      0.84      0.86       114\n",
            "\n",
            "    accuracy                           0.92       962\n",
            "   macro avg       0.92      0.93      0.93       962\n",
            "weighted avg       0.92      0.92      0.92       962\n",
            "\n",
            "\n"
          ]
        },
        {
          "output_type": "display_data",
          "data": {
            "text/plain": [
              "<Figure size 432x288 with 1 Axes>"
            ],
            "image/png": "[encoded data removed]"
          },
          "metadata": {
            "needs_background": "light"
          }
        }
      ]
    },
    {
      "cell_type": "markdown",
      "source": [
        "**Sample testing**"
      ],
      "metadata": {
        "id": "NXBC0vwS90ky"
      }
    },
    {
      "cell_type": "code",
      "source": [
        "M = pd.read_csv('/content/DA-AI-ML-interview-assignment-Data (1).csv')"
      ],
      "metadata": {
        "id": "GBRl0C1rgie-"
      },
      "execution_count": 45,
      "outputs": []
    },
    {
      "cell_type": "code",
      "source": [
        "M = M.sample(10)"
      ],
      "metadata": {
        "id": "ENgBfMBFgiZk"
      },
      "execution_count": 47,
      "outputs": []
    },
    {
      "cell_type": "code",
      "source": [
        "M = M.drop(['genre'] , axis = 1)\n",
        "\n",
        "\n",
        "M['num_ratings'] = convert1(M['num_ratings'])\n",
        "M['num_reviews'] = convert1(M['num_reviews'])\n",
        "M['num_followers'] = convert1(M['num_followers'])\n",
        "\n",
        "M['num_ratings'] = M['num_ratings'] / 1000\n",
        "\n",
        "\n",
        "\n",
        "\n",
        "Mf = M[['title', 'name', 'num_ratings','num_followers', 'synopsis']]\n",
        "Mf['tags'] = Mf['title'] + \" \" + Mf['name'] + \" \" + Mf['synopsis']\n",
        "\n",
        "M2 = Mf[['num_ratings' , 'num_followers', 'tags']]\n",
        "\n",
        "M2['tags'] = df2.tags.apply(data_pre)\n",
        "\n"
      ],
      "metadata": {
        "id": "Izkdx54tgiTZ"
      },
      "execution_count": 50,
      "outputs": []
    },
    {
      "cell_type": "code",
      "source": [
        "M2 = M2.reset_index()"
      ],
      "metadata": {
        "id": "QR3ZkLtZ_ebb"
      },
      "execution_count": 65,
      "outputs": []
    },
    {
      "cell_type": "code",
      "source": [
        "M2 = M2.drop(['index'] , axis = 1)"
      ],
      "metadata": {
        "id": "L2P5srs7_i2N"
      },
      "execution_count": 66,
      "outputs": []
    },
    {
      "cell_type": "code",
      "source": [
        "#tf_vec = TfidfVectorizer(min_df = 5)\n",
        "tf = tf_vec.transform(M2['tags'].values)\n",
        "\n",
        "a1 = tf.toarray()\n",
        "d1 = pd.DataFrame(a1)\n",
        "\n",
        "\n",
        "k = pd.concat([d1,M2.drop(['tags'] , axis = 1)] , axis = 1)\n",
        "\n"
      ],
      "metadata": {
        "id": "vaSvLTG3giOr"
      },
      "execution_count": 68,
      "outputs": []
    },
    {
      "cell_type": "code",
      "source": [
        "modelk = RandomForestClassifier(class_weight = 'balanced')\n",
        "modelk.fit(A_train1 , b_train1)\n",
        "o  = modelk.predict(k)\n",
        "\n"
      ],
      "metadata": {
        "id": "Sie7x5NqgiBz"
      },
      "execution_count": null,
      "outputs": []
    },
    {
      "cell_type": "code",
      "source": [
        "keys = list(maps.keys())\n",
        "values = list(maps.values())\n",
        "\n",
        "for i in o:\n",
        "  print(\"Genre of the book :\"  ,keys[values.index(i)])"
      ],
      "metadata": {
        "colab": {
          "base_uri": "https://localhost:8080/"
        },
        "id": "FbCJueIHA6lg",
        "outputId": "60a022f6-d5ba-423b-9475-5f099e9b0018"
      },
      "execution_count": 80,
      "outputs": [
        {
          "output_type": "stream",
          "name": "stdout",
          "text": [
            "Genre of the book : fantasy\n",
            "Genre of the book : sports\n",
            "Genre of the book : thriller\n",
            "Genre of the book : fantasy\n",
            "Genre of the book : romance\n",
            "Genre of the book : fantasy\n",
            "Genre of the book : psychology\n",
            "Genre of the book : history\n",
            "Genre of the book : thriller\n",
            "Genre of the book : thriller\n"
          ]
        }
      ]
    }
  ]
}